{
 "cells": [
  {
   "cell_type": "code",
   "execution_count": 1,
   "metadata": {
    "_cell_guid": "79c7e3d0-c299-4dcb-8224-4455121ee9b0",
    "_uuid": "d629ff2d2480ee46fbb7e2d37f6b5fab8052498a",
    "execution": {
     "iopub.execute_input": "2021-06-03T11:49:11.515672Z",
     "iopub.status.busy": "2021-06-03T11:49:11.515379Z",
     "iopub.status.idle": "2021-06-03T11:49:12.404404Z",
     "shell.execute_reply": "2021-06-03T11:49:12.403654Z",
     "shell.execute_reply.started": "2021-06-03T11:49:11.515615Z"
    }
   },
   "outputs": [
    {
     "name": "stderr",
     "output_type": "stream",
     "text": [
      "Using TensorFlow backend.\n"
     ]
    }
   ],
   "source": [
    "import pandas as pd\n",
    "import tensorflow\n",
    "import numpy as np\n",
    "from keras.models import Sequential\n",
    "from keras import optimizers\n",
    "from keras.layers import Dense, Conv2D, Dropout, Flatten, MaxPooling2D\n",
    "from keras.applications import MobileNetV2"
   ]
  },
  {
   "cell_type": "code",
   "execution_count": 2,
   "metadata": {
    "execution": {
     "iopub.execute_input": "2021-06-03T11:49:19.376791Z",
     "iopub.status.busy": "2021-06-03T11:49:19.376463Z",
     "iopub.status.idle": "2021-06-03T11:49:29.693454Z",
     "shell.execute_reply": "2021-06-03T11:49:29.692592Z",
     "shell.execute_reply.started": "2021-06-03T11:49:19.376742Z"
    }
   },
   "outputs": [
    {
     "name": "stdout",
     "output_type": "stream",
     "text": [
      "Downloading data from https://github.com/JonathanCMitchell/mobilenet_v2_keras/releases/download/v1.1/mobilenet_v2_weights_tf_dim_ordering_tf_kernels_1.0_224_no_top.h5\n",
      "9412608/9406464 [==============================] - 0s 0us/step\n"
     ]
    }
   ],
   "source": [
    "base_model=MobileNetV2(include_top=False, weights=\"imagenet\", input_shape=(224,224,3))"
   ]
  },
  {
   "cell_type": "code",
   "execution_count": 3,
   "metadata": {
    "execution": {
     "iopub.execute_input": "2021-06-03T11:49:45.606699Z",
     "iopub.status.busy": "2021-06-03T11:49:45.606379Z",
     "iopub.status.idle": "2021-06-03T11:49:49.659686Z",
     "shell.execute_reply": "2021-06-03T11:49:49.658772Z",
     "shell.execute_reply.started": "2021-06-03T11:49:45.606647Z"
    }
   },
   "outputs": [],
   "source": [
    "model = Sequential()\n",
    "model.add(base_model)\n",
    "model.add(Conv2D(64, (3, 3), activation = 'relu'))\n",
    "model.add(MaxPooling2D(pool_size = (2, 2)))\n",
    "model.add(Dropout(0.40))\n",
    "model.add(Flatten())\n",
    "model.add(Dense(128,activation='relu'))\n",
    "model.add(Dropout(0.4))\n",
    "model.add(Dense(7, activation='sigmoid'))\n"
   ]
  },
  {
   "cell_type": "code",
   "execution_count": 4,
   "metadata": {
    "execution": {
     "iopub.execute_input": "2021-06-03T11:49:54.707634Z",
     "iopub.status.busy": "2021-06-03T11:49:54.707334Z",
     "iopub.status.idle": "2021-06-03T11:49:54.782297Z",
     "shell.execute_reply": "2021-06-03T11:49:54.781624Z",
     "shell.execute_reply.started": "2021-06-03T11:49:54.707585Z"
    }
   },
   "outputs": [],
   "source": [
    "data=pd.read_csv(\"../input/skin-cancer-mnist-ham10000/HAM10000_metadata.csv\")\n",
    "data['image_full_name']=data['image_id']+'.jpg'\n",
    "X=data[['image_full_name','dx','lesion_id']]"
   ]
  },
  {
   "cell_type": "code",
   "execution_count": 5,
   "metadata": {
    "execution": {
     "iopub.execute_input": "2021-06-03T11:49:57.197776Z",
     "iopub.status.busy": "2021-06-03T11:49:57.197456Z",
     "iopub.status.idle": "2021-06-03T11:49:57.222983Z",
     "shell.execute_reply": "2021-06-03T11:49:57.221908Z",
     "shell.execute_reply.started": "2021-06-03T11:49:57.197722Z"
    }
   },
   "outputs": [
    {
     "data": {
      "text/html": [
       "<div>\n",
       "<style scoped>\n",
       "    .dataframe tbody tr th:only-of-type {\n",
       "        vertical-align: middle;\n",
       "    }\n",
       "\n",
       "    .dataframe tbody tr th {\n",
       "        vertical-align: top;\n",
       "    }\n",
       "\n",
       "    .dataframe thead th {\n",
       "        text-align: right;\n",
       "    }\n",
       "</style>\n",
       "<table border=\"1\" class=\"dataframe\">\n",
       "  <thead>\n",
       "    <tr style=\"text-align: right;\">\n",
       "      <th></th>\n",
       "      <th>image_full_name</th>\n",
       "      <th>dx</th>\n",
       "      <th>lesion_id</th>\n",
       "    </tr>\n",
       "  </thead>\n",
       "  <tbody>\n",
       "    <tr>\n",
       "      <th>3857</th>\n",
       "      <td>ISIC_0028105.jpg</td>\n",
       "      <td>nv</td>\n",
       "      <td>HAM_0005397</td>\n",
       "    </tr>\n",
       "    <tr>\n",
       "      <th>1413</th>\n",
       "      <td>ISIC_0028087.jpg</td>\n",
       "      <td>mel</td>\n",
       "      <td>HAM_0002981</td>\n",
       "    </tr>\n",
       "    <tr>\n",
       "      <th>5107</th>\n",
       "      <td>ISIC_0029114.jpg</td>\n",
       "      <td>nv</td>\n",
       "      <td>HAM_0007231</td>\n",
       "    </tr>\n",
       "    <tr>\n",
       "      <th>2459</th>\n",
       "      <td>ISIC_0025452.jpg</td>\n",
       "      <td>vasc</td>\n",
       "      <td>HAM_0004257</td>\n",
       "    </tr>\n",
       "    <tr>\n",
       "      <th>5464</th>\n",
       "      <td>ISIC_0024390.jpg</td>\n",
       "      <td>nv</td>\n",
       "      <td>HAM_0003645</td>\n",
       "    </tr>\n",
       "  </tbody>\n",
       "</table>\n",
       "</div>"
      ],
      "text/plain": [
       "       image_full_name    dx    lesion_id\n",
       "3857  ISIC_0028105.jpg    nv  HAM_0005397\n",
       "1413  ISIC_0028087.jpg   mel  HAM_0002981\n",
       "5107  ISIC_0029114.jpg    nv  HAM_0007231\n",
       "2459  ISIC_0025452.jpg  vasc  HAM_0004257\n",
       "5464  ISIC_0024390.jpg    nv  HAM_0003645"
      ]
     },
     "execution_count": 5,
     "metadata": {},
     "output_type": "execute_result"
    }
   ],
   "source": [
    "X.sample(5)"
   ]
  },
  {
   "cell_type": "code",
   "execution_count": 6,
   "metadata": {
    "execution": {
     "iopub.execute_input": "2021-06-03T11:50:11.239155Z",
     "iopub.status.busy": "2021-06-03T11:50:11.238858Z",
     "iopub.status.idle": "2021-06-03T11:50:12.120428Z",
     "shell.execute_reply": "2021-06-03T11:50:12.119420Z",
     "shell.execute_reply.started": "2021-06-03T11:50:11.239097Z"
    }
   },
   "outputs": [],
   "source": [
    "from sklearn.model_selection import train_test_split\n",
    "Y=X.pop('dx').to_frame()\n",
    "X_train, X_test, y_train, y_test   = train_test_split(X,Y, test_size=0.17, random_state=42)\n",
    "X_train,X_val,y_train,y_val        =train_test_split(X_train, y_train, test_size=0.17, random_state=42)"
   ]
  },
  {
   "cell_type": "code",
   "execution_count": 7,
   "metadata": {
    "execution": {
     "iopub.execute_input": "2021-06-03T11:50:15.089182Z",
     "iopub.status.busy": "2021-06-03T11:50:15.088865Z",
     "iopub.status.idle": "2021-06-03T11:50:15.096798Z",
     "shell.execute_reply": "2021-06-03T11:50:15.096006Z",
     "shell.execute_reply.started": "2021-06-03T11:50:15.089116Z"
    }
   },
   "outputs": [],
   "source": [
    "train=pd.concat([X_train,y_train],axis=1)\n",
    "val=pd.concat([X_val,y_val],axis=1)\n",
    "test=pd.concat([X_test,y_test],axis=1)"
   ]
  },
  {
   "cell_type": "code",
   "execution_count": 8,
   "metadata": {
    "execution": {
     "iopub.execute_input": "2021-06-03T11:50:19.557737Z",
     "iopub.status.busy": "2021-06-03T11:50:19.557416Z",
     "iopub.status.idle": "2021-06-03T11:50:19.565761Z",
     "shell.execute_reply": "2021-06-03T11:50:19.562667Z",
     "shell.execute_reply.started": "2021-06-03T11:50:19.557685Z"
    }
   },
   "outputs": [],
   "source": [
    "from sklearn.preprocessing import LabelEncoder\n",
    "encoder= LabelEncoder()\n",
    "encoder.fit(val['dx'])\n",
    "name_as_indexes_train=encoder.transform(val['dx']) \n",
    "val['label']=name_as_indexes_train"
   ]
  },
  {
   "cell_type": "code",
   "execution_count": 9,
   "metadata": {
    "execution": {
     "iopub.execute_input": "2021-06-03T11:50:21.929066Z",
     "iopub.status.busy": "2021-06-03T11:50:21.928763Z",
     "iopub.status.idle": "2021-06-03T11:50:21.937561Z",
     "shell.execute_reply": "2021-06-03T11:50:21.936771Z",
     "shell.execute_reply.started": "2021-06-03T11:50:21.929012Z"
    }
   },
   "outputs": [],
   "source": [
    "encoder=LabelEncoder()\n",
    "encoder.fit(test['dx'])\n",
    "name_as_indexes_test=encoder.transform(test['dx']) \n",
    "test['label']=name_as_indexes_test"
   ]
  },
  {
   "cell_type": "code",
   "execution_count": 11,
   "metadata": {
    "execution": {
     "iopub.execute_input": "2021-06-03T11:50:34.207814Z",
     "iopub.status.busy": "2021-06-03T11:50:34.207486Z",
     "iopub.status.idle": "2021-06-03T11:50:34.212432Z",
     "shell.execute_reply": "2021-06-03T11:50:34.211400Z",
     "shell.execute_reply.started": "2021-06-03T11:50:34.207763Z"
    }
   },
   "outputs": [],
   "source": [
    "from keras_preprocessing.image import ImageDataGenerator\n",
    "train_generator = ImageDataGenerator(rescale = 1./255,\n",
    "                                     rotation_range=10,  \n",
    "                                     zoom_range = 0.1, \n",
    "                                     width_shift_range=0.0,  height_shift_range=0.00) "
   ]
  },
  {
   "cell_type": "code",
   "execution_count": 12,
   "metadata": {
    "execution": {
     "iopub.execute_input": "2021-06-03T11:50:40.138450Z",
     "iopub.status.busy": "2021-06-03T11:50:40.138157Z",
     "iopub.status.idle": "2021-06-03T11:50:45.280116Z",
     "shell.execute_reply": "2021-06-03T11:50:45.278505Z",
     "shell.execute_reply.started": "2021-06-03T11:50:40.138399Z"
    }
   },
   "outputs": [
    {
     "name": "stdout",
     "output_type": "stream",
     "text": [
      "Found 6898 validated image filenames belonging to 7 classes.\n"
     ]
    }
   ],
   "source": [
    "train_data= train_generator.flow_from_dataframe(dataframe=train,x_col=\"image_full_name\",y_col=\"dx\",\n",
    "                                                batch_size=32,directory=\"../input/mnist1000-with-one-image-folder/ham1000_images/HAM1000_images\",\n",
    "                                                shuffle=True,class_mode=\"categorical\",target_size=(224,224))"
   ]
  },
  {
   "cell_type": "code",
   "execution_count": 14,
   "metadata": {
    "execution": {
     "iopub.execute_input": "2021-06-03T11:50:58.238004Z",
     "iopub.status.busy": "2021-06-03T11:50:58.237697Z",
     "iopub.status.idle": "2021-06-03T11:50:58.242250Z",
     "shell.execute_reply": "2021-06-03T11:50:58.241471Z",
     "shell.execute_reply.started": "2021-06-03T11:50:58.237953Z"
    }
   },
   "outputs": [],
   "source": [
    "test_generator=ImageDataGenerator(rescale = 1./255,rotation_range=10,  \n",
    "                                     zoom_range = 0.1, \n",
    "                                     width_shift_range=0.0,  height_shift_range=0.02)"
   ]
  },
  {
   "cell_type": "code",
   "execution_count": 15,
   "metadata": {
    "execution": {
     "iopub.execute_input": "2021-06-03T11:51:04.048962Z",
     "iopub.status.busy": "2021-06-03T11:51:04.048584Z",
     "iopub.status.idle": "2021-06-03T11:51:05.314217Z",
     "shell.execute_reply": "2021-06-03T11:51:05.313361Z",
     "shell.execute_reply.started": "2021-06-03T11:51:04.048901Z"
    }
   },
   "outputs": [
    {
     "name": "stdout",
     "output_type": "stream",
     "text": [
      "Found 1703 validated image filenames.\n"
     ]
    }
   ],
   "source": [
    "test_data= test_generator.flow_from_dataframe(dataframe=test,x_col=\"image_full_name\",y_col=\"dx\",\n",
    "                                              directory=\"../input/mnist1000-with-one-image-folder/ham1000_images/HAM1000_images\",\n",
    "                                              shuffle=False,batch_size=1,class_mode=None,target_size=(224,224))"
   ]
  },
  {
   "cell_type": "code",
   "execution_count": 16,
   "metadata": {
    "execution": {
     "iopub.execute_input": "2021-06-03T11:51:08.802879Z",
     "iopub.status.busy": "2021-06-03T11:51:08.802577Z",
     "iopub.status.idle": "2021-06-03T11:51:09.965001Z",
     "shell.execute_reply": "2021-06-03T11:51:09.963916Z",
     "shell.execute_reply.started": "2021-06-03T11:51:08.802831Z"
    }
   },
   "outputs": [
    {
     "name": "stdout",
     "output_type": "stream",
     "text": [
      "Found 1414 validated image filenames belonging to 7 classes.\n"
     ]
    }
   ],
   "source": [
    "val_data=test_generator.flow_from_dataframe(dataframe=val,x_col=\"image_full_name\",y_col=\"dx\",\n",
    "                                            directory=\"../input/mnist1000-with-one-image-folder/ham1000_images/HAM1000_images\",\n",
    "                                            batch_size=64,shuffle=False,class_mode=\"categorical\",target_size=(224,224))"
   ]
  },
  {
   "cell_type": "code",
   "execution_count": 17,
   "metadata": {
    "execution": {
     "iopub.execute_input": "2021-06-03T11:51:13.848670Z",
     "iopub.status.busy": "2021-06-03T11:51:13.848362Z",
     "iopub.status.idle": "2021-06-03T11:51:13.854390Z",
     "shell.execute_reply": "2021-06-03T11:51:13.853546Z",
     "shell.execute_reply.started": "2021-06-03T11:51:13.848620Z"
    }
   },
   "outputs": [],
   "source": [
    "from keras.callbacks import ReduceLROnPlateau\n",
    "learning_control = ReduceLROnPlateau(monitor='val_acc', patience=3, verbose=1, factor=.5, min_lr=0.0001)"
   ]
  },
  {
   "cell_type": "code",
   "execution_count": 18,
   "metadata": {
    "execution": {
     "iopub.execute_input": "2021-06-03T11:51:21.636422Z",
     "iopub.status.busy": "2021-06-03T11:51:21.636114Z",
     "iopub.status.idle": "2021-06-03T11:51:21.680652Z",
     "shell.execute_reply": "2021-06-03T11:51:21.679863Z",
     "shell.execute_reply.started": "2021-06-03T11:51:21.636370Z"
    }
   },
   "outputs": [],
   "source": [
    "from keras.optimizers import Adam,SGD\n",
    "sgd = optimizers.SGD(lr = 0.01, clipvalue = 0.5)\n",
    "model.compile(optimizer=sgd,loss=\"categorical_crossentropy\",metrics=[\"accuracy\"])"
   ]
  },
  {
   "cell_type": "code",
   "execution_count": 19,
   "metadata": {
    "execution": {
     "iopub.execute_input": "2021-06-03T11:51:27.989826Z",
     "iopub.status.busy": "2021-06-03T11:51:27.989498Z",
     "iopub.status.idle": "2021-06-03T13:11:22.154587Z",
     "shell.execute_reply": "2021-06-03T13:11:22.153729Z",
     "shell.execute_reply.started": "2021-06-03T11:51:27.989772Z"
    }
   },
   "outputs": [
    {
     "name": "stdout",
     "output_type": "stream",
     "text": [
      "Epoch 1/30\n",
      "215/215 [==============================] - 224s 1s/step - loss: 1.2542 - acc: 0.5767 - val_loss: 0.8978 - val_acc: 0.6811\n",
      "Epoch 2/30\n",
      "215/215 [==============================] - 155s 721ms/step - loss: 0.8217 - acc: 0.7123 - val_loss: 0.7473 - val_acc: 0.7037\n",
      "Epoch 3/30\n",
      "215/215 [==============================] - 156s 725ms/step - loss: 0.7222 - acc: 0.7406 - val_loss: 0.7314 - val_acc: 0.7326\n",
      "Epoch 4/30\n",
      "215/215 [==============================] - 156s 727ms/step - loss: 0.6504 - acc: 0.7631 - val_loss: 1.2356 - val_acc: 0.6785\n",
      "Epoch 5/30\n",
      "215/215 [==============================] - 155s 719ms/step - loss: 0.6076 - acc: 0.7810 - val_loss: 0.6796 - val_acc: 0.7548\n",
      "Epoch 6/30\n",
      "215/215 [==============================] - 155s 723ms/step - loss: 0.5398 - acc: 0.8013 - val_loss: 0.9366 - val_acc: 0.7274\n",
      "Epoch 7/30\n",
      "215/215 [==============================] - 155s 722ms/step - loss: 0.5192 - acc: 0.8087 - val_loss: 0.7966 - val_acc: 0.7644\n",
      "Epoch 8/30\n",
      "215/215 [==============================] - 159s 738ms/step - loss: 0.4511 - acc: 0.8370 - val_loss: 0.9119 - val_acc: 0.7548\n",
      "Epoch 9/30\n",
      "215/215 [==============================] - 161s 748ms/step - loss: 0.4243 - acc: 0.8490 - val_loss: 0.8191 - val_acc: 0.7719\n",
      "Epoch 10/30\n",
      "215/215 [==============================] - 159s 740ms/step - loss: 0.3887 - acc: 0.8591 - val_loss: 0.8044 - val_acc: 0.7830\n",
      "Epoch 11/30\n",
      "215/215 [==============================] - 160s 745ms/step - loss: 0.3492 - acc: 0.8755 - val_loss: 0.9218 - val_acc: 0.7681\n",
      "Epoch 12/30\n",
      "215/215 [==============================] - 159s 741ms/step - loss: 0.3290 - acc: 0.8827 - val_loss: 1.2628 - val_acc: 0.7593\n",
      "Epoch 13/30\n",
      "215/215 [==============================] - 161s 747ms/step - loss: 0.2757 - acc: 0.9020 - val_loss: 2.6328 - val_acc: 0.7096\n",
      "\n",
      "Epoch 00013: ReduceLROnPlateau reducing learning rate to 0.004999999888241291.\n",
      "Epoch 14/30\n",
      "215/215 [==============================] - 155s 722ms/step - loss: 0.2041 - acc: 0.9287 - val_loss: 2.6497 - val_acc: 0.7200\n",
      "Epoch 15/30\n",
      "215/215 [==============================] - 156s 726ms/step - loss: 0.1597 - acc: 0.9464 - val_loss: 1.4427 - val_acc: 0.7770\n",
      "Epoch 16/30\n",
      "215/215 [==============================] - 155s 723ms/step - loss: 0.1559 - acc: 0.9486 - val_loss: 1.0008 - val_acc: 0.8074\n",
      "Epoch 17/30\n",
      "215/215 [==============================] - 156s 728ms/step - loss: 0.1407 - acc: 0.9547 - val_loss: 1.9045 - val_acc: 0.7511\n",
      "Epoch 18/30\n",
      "215/215 [==============================] - 158s 737ms/step - loss: 0.1304 - acc: 0.9568 - val_loss: 1.0885 - val_acc: 0.8067\n",
      "Epoch 19/30\n",
      "215/215 [==============================] - 160s 746ms/step - loss: 0.1091 - acc: 0.9643 - val_loss: 1.0711 - val_acc: 0.8126\n",
      "Epoch 20/30\n",
      "215/215 [==============================] - 164s 762ms/step - loss: 0.1202 - acc: 0.9629 - val_loss: 1.3987 - val_acc: 0.7793\n",
      "Epoch 21/30\n",
      "215/215 [==============================] - 156s 726ms/step - loss: 0.0944 - acc: 0.9676 - val_loss: 2.0413 - val_acc: 0.7556\n",
      "Epoch 22/30\n",
      "215/215 [==============================] - 160s 743ms/step - loss: 0.0960 - acc: 0.9701 - val_loss: 0.8912 - val_acc: 0.8385\n",
      "Epoch 23/30\n",
      "215/215 [==============================] - 160s 745ms/step - loss: 0.0864 - acc: 0.9729 - val_loss: 1.1896 - val_acc: 0.8037\n",
      "Epoch 24/30\n",
      "215/215 [==============================] - 156s 726ms/step - loss: 0.0834 - acc: 0.9733 - val_loss: 1.3364 - val_acc: 0.8011\n",
      "Epoch 25/30\n",
      "215/215 [==============================] - 157s 732ms/step - loss: 0.0760 - acc: 0.9753 - val_loss: 1.1027 - val_acc: 0.8148\n",
      "\n",
      "Epoch 00025: ReduceLROnPlateau reducing learning rate to 0.0024999999441206455.\n",
      "Epoch 26/30\n",
      "215/215 [==============================] - 156s 726ms/step - loss: 0.0548 - acc: 0.9818 - val_loss: 0.8245 - val_acc: 0.8481\n",
      "Epoch 27/30\n",
      "215/215 [==============================] - 155s 721ms/step - loss: 0.0541 - acc: 0.9839 - val_loss: 0.8299 - val_acc: 0.8600\n",
      "Epoch 28/30\n",
      "215/215 [==============================] - 155s 723ms/step - loss: 0.0445 - acc: 0.9878 - val_loss: 0.8511 - val_acc: 0.8556\n",
      "Epoch 29/30\n",
      "215/215 [==============================] - 156s 726ms/step - loss: 0.0364 - acc: 0.9883 - val_loss: 0.9077 - val_acc: 0.8578\n",
      "Epoch 30/30\n",
      "215/215 [==============================] - 156s 724ms/step - loss: 0.0343 - acc: 0.9906 - val_loss: 0.8953 - val_acc: 0.8504\n",
      "\n",
      "Epoch 00030: ReduceLROnPlateau reducing learning rate to 0.0012499999720603228.\n"
     ]
    }
   ],
   "source": [
    "history = model.fit_generator(generator=train_data,\n",
    "                            steps_per_epoch=train_data.samples//train_data.batch_size,\n",
    "                            validation_data=val_data,\n",
    "                            verbose=1,\n",
    "                            validation_steps=val_data.samples//val_data.batch_size,\n",
    "                            epochs=30,callbacks=[learning_control])"
   ]
  },
  {
   "cell_type": "code",
   "execution_count": null,
   "metadata": {},
   "outputs": [],
   "source": [
    "model.save('model12345.h5')"
   ]
  },
  {
   "cell_type": "code",
   "execution_count": 20,
   "metadata": {
    "execution": {
     "iopub.execute_input": "2021-06-03T13:11:30.175582Z",
     "iopub.status.busy": "2021-06-03T13:11:30.175269Z",
     "iopub.status.idle": "2021-06-03T13:11:30.406045Z",
     "shell.execute_reply": "2021-06-03T13:11:30.404558Z",
     "shell.execute_reply.started": "2021-06-03T13:11:30.175507Z"
    }
   },
   "outputs": [
    {
     "data": {
      "image/png": "[encoded data removed]",
      "text/plain": [
       "<Figure size 432x288 with 1 Axes>"
      ]
     },
     "metadata": {
      "needs_background": "light"
     },
     "output_type": "display_data"
    }
   ],
   "source": [
    "import matplotlib.pyplot as plt\n",
    "plt.plot(history.history['acc'])\n",
    "plt.plot(history.history['val_acc'])\n",
    "plt.title('model accuracy')\n",
    "plt.ylabel('accuracy')\n",
    "plt.xlabel('epoch')\n",
    "plt.legend(['train', 'val'], loc='upper left')\n",
    "plt.show()"
   ]
  },
  {
   "cell_type": "code",
   "execution_count": 21,
   "metadata": {
    "execution": {
     "iopub.execute_input": "2021-06-03T13:11:36.784790Z",
     "iopub.status.busy": "2021-06-03T13:11:36.784455Z",
     "iopub.status.idle": "2021-06-03T13:11:36.990356Z",
     "shell.execute_reply": "2021-06-03T13:11:36.989569Z",
     "shell.execute_reply.started": "2021-06-03T13:11:36.784740Z"
    }
   },
   "outputs": [
    {
     "data": {
      "image/png": "[encoded data removed]",
      "text/plain": [
       "<Figure size 432x288 with 1 Axes>"
      ]
     },
     "metadata": {
      "needs_background": "light"
     },
     "output_type": "display_data"
    }
   ],
   "source": [
    "plt.plot(history.history['loss'])\n",
    "plt.plot(history.history['val_loss'])\n",
    "plt.title('model loss')\n",
    "plt.ylabel('loss')\n",
    "plt.xlabel('epoch')\n",
    "plt.legend(['train', 'val'], loc='upper left')\n",
    "plt.show()"
   ]
  },
  {
   "cell_type": "code",
   "execution_count": 24,
   "metadata": {
    "execution": {
     "iopub.execute_input": "2021-06-03T13:12:14.514009Z",
     "iopub.status.busy": "2021-06-03T13:12:14.513704Z",
     "iopub.status.idle": "2021-06-03T13:12:14.798831Z",
     "shell.execute_reply": "2021-06-03T13:12:14.798032Z",
     "shell.execute_reply.started": "2021-06-03T13:12:14.513958Z"
    }
   },
   "outputs": [
    {
     "data": {
      "text/plain": [
       "<matplotlib.legend.Legend at 0x7f443a637e10>"
      ]
     },
     "execution_count": 24,
     "metadata": {},
     "output_type": "execute_result"
    },
    {
     "data": {
      "image/png": "[encoded data removed]",
      "text/plain": [
       "<Figure size 432x288 with 1 Axes>"
      ]
     },
     "metadata": {},
     "output_type": "display_data"
    }
   ],
   "source": [
    "N = 30\n",
    "plt.style.use(\"ggplot\")\n",
    "plt.figure()\n",
    "plt.plot(np.arange(0, N), history.history[\"loss\"], label=\"train_loss\")\n",
    "plt.plot(np.arange(0, N), history.history[\"val_loss\"], label=\"val_loss\")\n",
    "plt.plot(np.arange(0, N), history.history[\"acc\"], label=\"train_acc\")\n",
    "plt.plot(np.arange(0, N), history.history[\"val_acc\"], label=\"val_acc\")\n",
    "plt.title(\"Training Loss and Accuracy\")\n",
    "plt.xlabel(\"Epoch #\")\n",
    "plt.ylabel(\"Loss/Accuracy\")\n",
    "plt.legend(loc=\"lower left\")\n"
   ]
  },
  {
   "cell_type": "code",
   "execution_count": 25,
   "metadata": {
    "execution": {
     "iopub.execute_input": "2021-06-03T13:14:11.868965Z",
     "iopub.status.busy": "2021-06-03T13:14:11.868641Z",
     "iopub.status.idle": "2021-06-03T13:15:01.490258Z",
     "shell.execute_reply": "2021-06-03T13:15:01.489422Z",
     "shell.execute_reply.started": "2021-06-03T13:14:11.868912Z"
    }
   },
   "outputs": [
    {
     "name": "stdout",
     "output_type": "stream",
     "text": [
      "1703/1703 [==============================] - 50s 29ms/step\n"
     ]
    }
   ],
   "source": [
    "test_data.reset()\n",
    "predictions = model.predict_generator(test_data, steps=test_data.samples/test_data.batch_size,verbose=1)\n",
    "y_pred= np.argmax(predictions, axis=1)"
   ]
  },
  {
   "cell_type": "code",
   "execution_count": 26,
   "metadata": {
    "execution": {
     "iopub.execute_input": "2021-06-03T13:15:01.492580Z",
     "iopub.status.busy": "2021-06-03T13:15:01.492044Z",
     "iopub.status.idle": "2021-06-03T13:15:01.496943Z",
     "shell.execute_reply": "2021-06-03T13:15:01.495920Z",
     "shell.execute_reply.started": "2021-06-03T13:15:01.492511Z"
    }
   },
   "outputs": [],
   "source": [
    "c=np.where(y_pred == name_as_indexes_test)"
   ]
  },
  {
   "cell_type": "code",
   "execution_count": 27,
   "metadata": {
    "execution": {
     "iopub.execute_input": "2021-06-03T13:15:05.228085Z",
     "iopub.status.busy": "2021-06-03T13:15:05.227781Z",
     "iopub.status.idle": "2021-06-03T13:15:05.233502Z",
     "shell.execute_reply": "2021-06-03T13:15:05.232715Z",
     "shell.execute_reply.started": "2021-06-03T13:15:05.228035Z"
    }
   },
   "outputs": [
    {
     "data": {
      "text/plain": [
       "1402"
      ]
     },
     "execution_count": 27,
     "metadata": {},
     "output_type": "execute_result"
    }
   ],
   "source": [
    "np.count_nonzero(c)"
   ]
  },
  {
   "cell_type": "code",
   "execution_count": 28,
   "metadata": {
    "execution": {
     "iopub.execute_input": "2021-06-03T13:15:08.908392Z",
     "iopub.status.busy": "2021-06-03T13:15:08.908098Z",
     "iopub.status.idle": "2021-06-03T13:15:08.913713Z",
     "shell.execute_reply": "2021-06-03T13:15:08.912921Z",
     "shell.execute_reply.started": "2021-06-03T13:15:08.908342Z"
    }
   },
   "outputs": [
    {
     "name": "stdout",
     "output_type": "stream",
     "text": [
      "Test Accuracy : 82.32530827950674\n"
     ]
    }
   ],
   "source": [
    "print(\"Test Accuracy :\",(np.count_nonzero(c)/len(name_as_indexes_test))*100)"
   ]
  },
  {
   "cell_type": "code",
   "execution_count": 29,
   "metadata": {
    "execution": {
     "iopub.execute_input": "2021-06-03T13:15:30.148915Z",
     "iopub.status.busy": "2021-06-03T13:15:30.148608Z",
     "iopub.status.idle": "2021-06-03T13:15:30.162611Z",
     "shell.execute_reply": "2021-06-03T13:15:30.161456Z",
     "shell.execute_reply.started": "2021-06-03T13:15:30.148860Z"
    },
    "scrolled": true
   },
   "outputs": [
    {
     "name": "stdout",
     "output_type": "stream",
     "text": [
      "              precision    recall  f1-score   support\n",
      "\n",
      "           0       0.64      0.61      0.63        62\n",
      "           1       0.80      0.64      0.71        77\n",
      "           2       0.75      0.53      0.62       201\n",
      "           3       0.70      0.29      0.41        24\n",
      "           4       0.66      0.43      0.52       191\n",
      "           5       0.86      0.97      0.91      1128\n",
      "           6       0.83      1.00      0.91        20\n",
      "\n",
      "    accuracy                           0.82      1703\n",
      "   macro avg       0.75      0.64      0.67      1703\n",
      "weighted avg       0.81      0.82      0.81      1703\n",
      "\n"
     ]
    }
   ],
   "source": [
    "from sklearn.metrics import classification_report\n",
    "\n",
    "# Generate a classification report\n",
    "report = classification_report(name_as_indexes_test, y_pred)\n",
    "\n",
    "print(report)"
   ]
  },
  {
   "cell_type": "code",
   "execution_count": null,
   "metadata": {},
   "outputs": [],
   "source": [
    "model.save(\"model12345.h5\")"
   ]
  }
 ],
 "metadata": {
  "kernelspec": {
   "display_name": "Python 3.7.9 64-bit ('Tensorflow': conda)",
   "name": "python379jvsc74a57bd0cec96fd5157ac695e76ba65a3f4963c5d178ffb88c876b5799be42c58eb379bb"
  },
  "language_info": {
   "codemirror_mode": {
    "name": "ipython",
    "version": 3
   },
   "file_extension": ".py",
   "mimetype": "text/x-python",
   "name": "python",
   "nbconvert_exporter": "python",
   "pygments_lexer": "ipython3",
   "version": "3.7.9"
  }
 },
 "nbformat": 4,
 "nbformat_minor": 4
}
